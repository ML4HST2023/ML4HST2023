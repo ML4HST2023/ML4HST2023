{
 "cells": [
  {
   "cell_type": "code",
   "execution_count": 1,
   "id": "34613693",
   "metadata": {},
   "outputs": [],
   "source": [
    "# Import the Computer Vision module\n",
    "import cv2"
   ]
  },
  {
   "cell_type": "code",
   "execution_count": 2,
   "id": "80c1517f",
   "metadata": {},
   "outputs": [],
   "source": [
    "# Locate to the directory where your trained Cascade Classifier is located\n",
    "face_cascade = cv2.CascadeClassifier(\"C://Users//nkhanal//Desktop//test_june_7//classifier//cascade.xml\")"
   ]
  },
  {
   "cell_type": "code",
   "execution_count": 3,
   "id": "33d21fa2",
   "metadata": {},
   "outputs": [],
   "source": [
    "# Capture the video from the USB Camera\n",
    "vc = cv2.VideoCapture(0)"
   ]
  },
  {
   "cell_type": "code",
   "execution_count": 4,
   "id": "2d0e4807",
   "metadata": {},
   "outputs": [],
   "source": [
    "# Function to detect the face through supplied video\n",
    "def faceDetect():\n",
    "    # Infinite loop until button q is pressed\n",
    "    while True:\n",
    "        # Read the contents from the camera\n",
    "        rval, frame = vc.read()\n",
    "        # If camera is not detected\n",
    "        if rval is False:\n",
    "            break\n",
    "            print('Camera not found!')\n",
    "        # Convert the supplied RGB image to grayscale\n",
    "        gray = cv2.cvtColor(frame, cv2.COLOR_BGR2GRAY)\n",
    "        # Detect face using the supplied cascade classifier\n",
    "        face_detect = face_cascade.detectMultiScale(gray, 1.03, 3)\n",
    "        # Loop on the co ordinates of the detected face\n",
    "        for (x, y, w, h) in face_detect:\n",
    "            # Store the co-ordinates to a mylist array\n",
    "            mylist = x, y, w, h\n",
    "            # Draw rectangle over the detected face\n",
    "            cv2.rectangle(frame, (x, y), (x + w, y + h), (0, 0, 255), 2)\n",
    "            # Display the co-ordinates on the top left corner of the rectangle\n",
    "            cv2.putText(frame, str(mylist), (x - 20, y - 20), cv2.FONT_HERSHEY_SCRIPT_SIMPLEX, 0.5, (0, 255, 0), 2,\n",
    "                        cv2.LINE_AA)\n",
    "        # Display the detected image in a new window\n",
    "        cv2.imshow(\"Face recognition\",frame)\n",
    "        # Display until either Esc or q is pressed\n",
    "        if cv2.waitKey(20) & 0xFF == ord('q'):\n",
    "            break\n",
    "    # Release the USB camera once Esc or q is pressed\n",
    "    cv2.destroyAllWindows()\n",
    "    vc.release()"
   ]
  },
  {
   "cell_type": "code",
   "execution_count": 5,
   "id": "298d5e7c",
   "metadata": {},
   "outputs": [],
   "source": [
    "if __name__ == \"__main__\":\n",
    "    # Call the face detection function\n",
    "    faceDetect()"
   ]
  },
  {
   "cell_type": "code",
   "execution_count": null,
   "id": "248cc5dc",
   "metadata": {},
   "outputs": [],
   "source": []
  }
 ],
 "metadata": {
  "kernelspec": {
   "display_name": "Python 3 (ipykernel)",
   "language": "python",
   "name": "python3"
  },
  "language_info": {
   "codemirror_mode": {
    "name": "ipython",
    "version": 3
   },
   "file_extension": ".py",
   "mimetype": "text/x-python",
   "name": "python",
   "nbconvert_exporter": "python",
   "pygments_lexer": "ipython3",
   "version": "3.9.12"
  }
 },
 "nbformat": 4,
 "nbformat_minor": 5
}
