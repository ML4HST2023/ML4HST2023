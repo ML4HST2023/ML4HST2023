{
 "cells": [
  {
   "cell_type": "code",
   "execution_count": null,
   "id": "fdd73d61",
   "metadata": {},
   "outputs": [],
   "source": [
    "# Import numerical python\n",
    "import numpy as np\n",
    "\n",
    "# Import QuantumCircuit class from qiskit library\n",
    "from qiskit import QuantumCircuit as QC\n",
    "\n",
    "# Import QuantumRegister class from the qiskit library\n",
    "from qiskit import QuantumRegister as QR\n",
    "\n",
    "# Import StateVector class from the quantum_info_module\n",
    "from qiskit.quantum_info import Statevector as SV\n",
    "\n",
    "# Import plot_bloch_multivector from visualization module\n",
    "from qiskit.visualization import plot_bloch_multivector"
   ]
  },
  {
   "cell_type": "code",
   "execution_count": null,
   "id": "86ba6836",
   "metadata": {},
   "outputs": [],
   "source": [
    "def plot(qc, q0, q1):\n",
    "    # Initialize the first qubit to |0> state\n",
    "    qc.initialize(q0,0)\n",
    "    \n",
    "    # Initialize the second qubit to |1> state\n",
    "    qc.initialize(q1,1)\n",
    "    \n",
    "    # Obtain a Statevector of the QuantumCircuit\n",
    "    state = SV(qc)\n",
    "    \n",
    "    return plot_bloch_multivector(state)"
   ]
  },
  {
   "cell_type": "code",
   "execution_count": null,
   "id": "0987f31d",
   "metadata": {},
   "outputs": [],
   "source": [
    "# Create two qubits using the QuantumRegister class\n",
    "q = QR(2, 'q')\n",
    "\n",
    "# Create a quantum circuit\n",
    "qc = QC(q)"
   ]
  },
  {
   "cell_type": "code",
   "execution_count": null,
   "id": "cd3fcf69",
   "metadata": {},
   "outputs": [],
   "source": [
    "# Setup the basis states as lists\n",
    "p = 1 / np.sqrt(2)\n",
    "base_states = {}\n",
    "\n",
    "base_states['x'] = [[p*complex(1,0), p*complex(1,0)],  # State |+>\n",
    "                    [p*complex(1,0), p*complex(-1,0)]] # State |->\n",
    "base_states['y'] = [[p*complex(1,0), p*complex(0,1)],  # State |i>\n",
    "                    [p*complex(1,0), p*complex(0,-1)]] # State |-i>\n",
    "base_states['z'] = [[complex(1,0), complex(0,0)],      # State |0>\n",
    "                    [complex(0,0), complex(1,0)]]      # State |1>"
   ]
  },
  {
   "cell_type": "code",
   "execution_count": null,
   "id": "e7430684",
   "metadata": {},
   "outputs": [],
   "source": [
    "# Plot the x basis state\n",
    "plot(qc, base_states['x'][0], base_states['x'][1])"
   ]
  },
  {
   "cell_type": "code",
   "execution_count": null,
   "id": "3ac20fec",
   "metadata": {},
   "outputs": [],
   "source": [
    "# Plot the y basis state\n",
    "plot(qc, base_states['y'][0], base_states['y'][1])"
   ]
  },
  {
   "cell_type": "code",
   "execution_count": null,
   "id": "10f44041",
   "metadata": {},
   "outputs": [],
   "source": [
    "# Plot the z basis state\n",
    "plot(qc, base_states['z'][0], base_states['z'][1])"
   ]
  }
 ],
 "metadata": {
  "kernelspec": {
   "display_name": "Python 3 (ipykernel)",
   "language": "python",
   "name": "python3"
  },
  "language_info": {
   "codemirror_mode": {
    "name": "ipython",
    "version": 3
   },
   "file_extension": ".py",
   "mimetype": "text/x-python",
   "name": "python",
   "nbconvert_exporter": "python",
   "pygments_lexer": "ipython3",
   "version": "3.11.3"
  }
 },
 "nbformat": 4,
 "nbformat_minor": 5
}
