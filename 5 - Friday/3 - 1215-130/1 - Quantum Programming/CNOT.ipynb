{
 "cells": [
  {
   "cell_type": "markdown",
   "id": "27122ecc",
   "metadata": {},
   "source": [
    "A Program to simulate Two Qubit Quantum Gates"
   ]
  },
  {
   "cell_type": "code",
   "execution_count": null,
   "id": "a3497707",
   "metadata": {},
   "outputs": [],
   "source": [
    "#import Matplotlib\n",
    "import matplotlib\n",
    "\n",
    "# Import numerical python\n",
    "import numpy as np\n",
    "\n",
    "#Import Noisy Simulator - Aer, and execution function\n",
    "from qiskit import execute, Aer\n",
    "\n",
    "# Import QuantumCircuit class from qiskit library\n",
    "from qiskit import QuantumCircuit as QC\n",
    "\n",
    "# Import QuantumRegister class from the qiskit library\n",
    "from qiskit import QuantumRegister as QR\n",
    "\n",
    "# Import ClassicalRegister class from the qiskit library\n",
    "from qiskit import ClassicalRegister as CR\n",
    "\n",
    "# Import StateVector class from the quantum_info_module\n",
    "from qiskit.quantum_info import Statevector as SV\n",
    "\n",
    "# Import plot_bloch_multivector from visualization module\n",
    "from qiskit.visualization import plot_bloch_multivector, plot_histogram"
   ]
  },
  {
   "cell_type": "code",
   "execution_count": null,
   "id": "38605d9a",
   "metadata": {},
   "outputs": [],
   "source": [
    "#Create two qubits using the QuantumRegister object\n",
    "q1 = QR(2,'q')\n",
    "\n",
    "#Create a classical register to store measurements of the two qubits\n",
    "c1 = CR(2,'c')\n",
    "\n",
    "#Create a quantum circuit\n",
    "qc1 = QC(q1, c1)"
   ]
  },
  {
   "cell_type": "code",
   "execution_count": null,
   "id": "7ab2b7db",
   "metadata": {},
   "outputs": [],
   "source": [
    "#Initialize the qubits\n",
    "qc1.initialize([complex(1,0),complex(0,0)],0)\n",
    "qc1.initialize([complex(1,0),complex(0,0)],1)\n",
    "\n",
    "#Draw the quantum Circuit\n",
    "qc1.draw(output = 'mpl',scale = 2.0)"
   ]
  },
  {
   "cell_type": "code",
   "execution_count": null,
   "id": "8e38ba6c",
   "metadata": {},
   "outputs": [],
   "source": [
    "#Add a CNOT Gate with q0 as the control and q1 as the target\n",
    "qc1.cx(q1[0],q1[1])\n",
    "\n",
    "#Draw the quantum Circuit\n",
    "qc1.draw(output = 'mpl',scale = 2.0)"
   ]
  },
  {
   "cell_type": "code",
   "execution_count": null,
   "id": "f1ac66f6",
   "metadata": {},
   "outputs": [],
   "source": [
    "#Add two measurement gates\n",
    "qc1.measure(q1[0],c1[0])\n",
    "qc1.measure(q1[1],c1[1])\n",
    "\n",
    "#Draw the quantum Circuit\n",
    "qc1.draw(output = 'mpl',scale = 2.0)"
   ]
  },
  {
   "cell_type": "code",
   "execution_count": null,
   "id": "9c7754ed",
   "metadata": {},
   "outputs": [],
   "source": [
    "#Create a simulator to perform noisy simulation using the qasm_simulator \n",
    "simulator = Aer.get_backend('qasm_simulator')\n",
    "\n",
    "#Perform the noisy simulation using the qasm_Simulator and repeat 1024 times\n",
    "job = execute(qc1, backend=simulator, shots=1024)\n",
    "\n",
    "#Obtain the results of the job submitted\n",
    "result = job.result()\n",
    "\n",
    "#Obtain the results of the simulation\n",
    "counts= result.get_counts(qc1)\n",
    "print(counts)\n",
    "\n",
    "#Plot the output as a histogram\n",
    "plot_histogram(counts)"
   ]
  },
  {
   "cell_type": "code",
   "execution_count": null,
   "id": "9ee42c67",
   "metadata": {},
   "outputs": [],
   "source": [
    "#Create two qubits using the QuantumRegister object\n",
    "q2 = QR(2,'q')\n",
    "\n",
    "#Create a classical register to store measurements of the two qubits\n",
    "c2 = CR(2,'c')\n",
    "\n",
    "#Create a quantum circuit\n",
    "qc2 = QC(q2, c2)"
   ]
  },
  {
   "cell_type": "code",
   "execution_count": null,
   "id": "4446f941",
   "metadata": {},
   "outputs": [],
   "source": [
    "#Initialize the qubits\n",
    "qc2.initialize([complex(1,0),complex(0,0)],0)\n",
    "qc2.initialize([complex(1,0),complex(0,0)],1)\n",
    "\n",
    "# Add Hadamard gate to each qbit\n",
    "qc2.h(q2[0])\n",
    "qc2.h(q2[1])\n",
    "\n",
    "# Add a CNOT Gate with q0 as the control and q1 as the target\n",
    "qc2.cx(q2[0],q2[1])\n",
    "\n",
    "# Add two measurement gates\n",
    "qc2.measure(q2[0],c2[0])\n",
    "qc2.measure(q2[1],c2[1])\n",
    "\n",
    "# Draw the quantum Circuit\n",
    "qc2.draw(output = 'mpl',scale = 2.0)"
   ]
  },
  {
   "cell_type": "code",
   "execution_count": null,
   "id": "1afce0e7",
   "metadata": {},
   "outputs": [],
   "source": [
    "#Create a simulator to perform noisy simulation using the qasm_simulator \n",
    "simulator = Aer.get_backend('qasm_simulator')\n",
    "\n",
    "#Perform the noisy simulation using the qasm_Simulator and repeat 1024 times\n",
    "job = execute(qc2, backend=simulator, shots=1024)\n",
    "\n",
    "#Obtain the results of the job submitted\n",
    "result = job.result()\n",
    "\n",
    "#Obtain the results of the simulation\n",
    "counts= result.get_counts(qc2)\n",
    "print(counts)\n",
    "\n",
    "#Plot the output as a histogram\n",
    "plot_histogram(counts)"
   ]
  },
  {
   "cell_type": "code",
   "execution_count": null,
   "id": "b6bcbb47",
   "metadata": {},
   "outputs": [],
   "source": []
  }
 ],
 "metadata": {
  "kernelspec": {
   "display_name": "Python 3 (ipykernel)",
   "language": "python",
   "name": "python3"
  },
  "language_info": {
   "codemirror_mode": {
    "name": "ipython",
    "version": 3
   },
   "file_extension": ".py",
   "mimetype": "text/x-python",
   "name": "python",
   "nbconvert_exporter": "python",
   "pygments_lexer": "ipython3",
   "version": "3.11.3"
  }
 },
 "nbformat": 4,
 "nbformat_minor": 5
}
