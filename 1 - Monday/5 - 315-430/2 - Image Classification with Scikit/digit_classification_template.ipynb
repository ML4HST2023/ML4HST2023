{
 "cells": [
  {
   "cell_type": "markdown",
   "metadata": {
    "id": "1Z208sQ-d2_x"
   },
   "source": [
    "## Import the required Modules"
   ]
  },
  {
   "cell_type": "code",
   "execution_count": null,
   "metadata": {
    "id": "4YT4KWH2bEh5",
    "tags": []
   },
   "outputs": [],
   "source": [
    "# Import numerical python libraries to create vectors and perform matrix multiplication\n",
    "\n",
    "\n",
    "# Import pyplot plotting library from matplotlib to plot similar to Matlab\n",
    "\n",
    "\n",
    "# Import a module to fetch the MNIST dataset\n",
    "\n",
    "\n",
    "# Import a module to rescale the MNIST images\n",
    "\n",
    "\n",
    "# Import the linear models from sklearn, specifically the MLPClassifier\n",
    "\n",
    "\n",
    "# Import the data handling utility to separate training and testing data\n",
    "\n",
    "\n",
    "# Import some helpful metrics to help us understand the models performance\n"
   ]
  },
  {
   "cell_type": "markdown",
   "metadata": {},
   "source": [
    "## Define Helper Functions"
   ]
  },
  {
   "cell_type": "code",
   "execution_count": null,
   "metadata": {
    "tags": []
   },
   "outputs": [],
   "source": [
    "def display_network(w, bias):\n",
    "    for i, layer in enumerate(w):\n",
    "        if i == len(w) - 1:\n",
    "            message = f'Output Layer \\n'\n",
    "            temp = []\n",
    "            for entry in layer:\n",
    "                temp.append(entry[0])\n",
    "            layer = [[temp]]\n",
    "        else:\n",
    "            message = f'Layer {i} \\n'\n",
    "\n",
    "        for j in range(len(layer[-1])):\n",
    "            message += 'Neuron '\n",
    "            b = bias[i][j] if j < len(bias[i]) else bias[i][-1]\n",
    "            message += f'{j} {layer[:,j]} {b} ' if i < len(w) - 1 else f'{j} {layer[-1][-1]} {b}'\n",
    "            message += '\\n'\n",
    "\n",
    "        print(message)"
   ]
  },
  {
   "cell_type": "code",
   "execution_count": null,
   "metadata": {
    "tags": []
   },
   "outputs": [],
   "source": [
    "def plot_loss(loss):\n",
    "    plt.plot(range(len(loss)), loss)\n",
    "    plt.xlabel('Epoch')\n",
    "    plt.ylabel('Loss')\n",
    "    plt.grid(True)"
   ]
  },
  {
   "cell_type": "markdown",
   "metadata": {
    "id": "NqipGnAxd7dS"
   },
   "source": [
    "## Load and configure the Iris Dataset"
   ]
  },
  {
   "cell_type": "code",
   "execution_count": null,
   "metadata": {
    "id": "ixeEGkOMYfG0",
    "tags": []
   },
   "outputs": [],
   "source": [
    "# Load the MNIST dataset created by Yann LeCun et al.\n"
   ]
  },
  {
   "cell_type": "code",
   "execution_count": null,
   "metadata": {},
   "outputs": [],
   "source": [
    "# Split the dataset into training and testing sets\n",
    "\n",
    "\n",
    "print('Dataset \\t Feature Shape \\t Label Shape')\n",
    "print(f'Training \\t {train_features.shape} \\t {train_labels.shape}')\n",
    "print(f'Testing \\t {test_features.shape} \\t {test_labels.shape}')"
   ]
  },
  {
   "cell_type": "markdown",
   "metadata": {
    "id": "WCw3Zh1Vovzf"
   },
   "source": [
    "## Model Training"
   ]
  },
  {
   "cell_type": "code",
   "execution_count": null,
   "metadata": {
    "id": "I85mYJ72rFz8",
    "tags": []
   },
   "outputs": [],
   "source": [
    "# Define a MLP classifier\n"
   ]
  },
  {
   "cell_type": "code",
   "execution_count": null,
   "metadata": {
    "id": "h5ebRtr7rIXN",
    "tags": []
   },
   "outputs": [],
   "source": [
    "# Train the MLP classifier\n",
    "\n",
    "print(f'Training Accuracy: {model.score(train_features, train_labels)}')"
   ]
  },
  {
   "cell_type": "markdown",
   "metadata": {
    "id": "kw2eAJvRwBuo"
   },
   "source": [
    "## Validating Performance"
   ]
  },
  {
   "cell_type": "code",
   "execution_count": null,
   "metadata": {
    "scrolled": true,
    "tags": []
   },
   "outputs": [],
   "source": [
    "# Store the model parameters (w1, w2, bias) locally\n",
    "\n",
    "\n",
    "# Display network parameters\n"
   ]
  },
  {
   "cell_type": "code",
   "execution_count": null,
   "metadata": {
    "id": "7Fjo8OZoqOb-",
    "tags": []
   },
   "outputs": [],
   "source": [
    "# Use the trained model to make predictions on the test dataset\n",
    "\n",
    "print(classification_report(test_labels, test_predictions))"
   ]
  },
  {
   "cell_type": "code",
   "execution_count": null,
   "metadata": {
    "tags": []
   },
   "outputs": [],
   "source": [
    "# Display the class accuracy using a confusion matrix\n"
   ]
  },
  {
   "cell_type": "code",
   "execution_count": null,
   "metadata": {},
   "outputs": [],
   "source": []
  }
 ],
 "metadata": {
  "accelerator": "GPU",
  "colab": {
   "collapsed_sections": [],
   "name": "Logisitc_Regression_IRIS.ipynb",
   "private_outputs": true,
   "provenance": [],
   "toc_visible": true
  },
  "kernelspec": {
   "display_name": "Python 3 (ipykernel)",
   "language": "python",
   "name": "python3"
  },
  "language_info": {
   "codemirror_mode": {
    "name": "ipython",
    "version": 3
   },
   "file_extension": ".py",
   "mimetype": "text/x-python",
   "name": "python",
   "nbconvert_exporter": "python",
   "pygments_lexer": "ipython3",
   "version": "3.8.16"
  }
 },
 "nbformat": 4,
 "nbformat_minor": 4
}
