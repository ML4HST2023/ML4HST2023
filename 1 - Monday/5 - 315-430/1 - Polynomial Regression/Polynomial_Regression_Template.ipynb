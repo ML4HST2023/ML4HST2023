{
 "cells": [
  {
   "cell_type": "code",
   "execution_count": null,
   "id": "5be1ce5d",
   "metadata": {},
   "outputs": [],
   "source": [
    "#Import data processing and visualization libraries\n",
    "import numpy as np\n",
    "import pandas as pd\n",
    "import matplotlib.pyplot as plt\n",
    "import pandas as pd"
   ]
  },
  {
   "cell_type": "code",
   "execution_count": null,
   "id": "0f77cd10",
   "metadata": {},
   "outputs": [],
   "source": [
    "#Read temperature data from .csv file and save temperature column\n",
    "\n",
    "y = df[[\"Temperature\"]].values.astype('float32')\n",
    "x = np.arange(0, len(y))\n",
    "#Plot the data\n",
    "plt.plot(y)\n",
    "#Plot labels\n",
    "plt.title(\"Temperature Data\", size=12)\n",
    "plt.xlabel(\"Days since first data collected\", size=12)\n",
    "plt.ylabel(\"Temperature (deg F)\", size=12)\n",
    "plt.show()"
   ]
  },
  {
   "cell_type": "code",
   "execution_count": null,
   "id": "a5f91d3c",
   "metadata": {},
   "outputs": [],
   "source": [
    "#Import scikit learn preprocessing for polynomial application\n",
    "from sklearn.preprocessing import PolynomialFeatures"
   ]
  },
  {
   "cell_type": "code",
   "execution_count": null,
   "id": "113f5e4d",
   "metadata": {},
   "outputs": [],
   "source": [
    "#Define the polynomial model with degree specification\n",
    "\n",
    "poly_features = poly.fit_transform(x.reshape(-1, 1))"
   ]
  },
  {
   "cell_type": "code",
   "execution_count": null,
   "id": "ce8b2968",
   "metadata": {},
   "outputs": [],
   "source": [
    "#Import scikit linear model (Note: polynomial regression is classified with linear models)\n",
    "from sklearn.linear_model import LinearRegression"
   ]
  },
  {
   "cell_type": "code",
   "execution_count": null,
   "id": "6ce6b724",
   "metadata": {},
   "outputs": [],
   "source": [
    "#Savve the instance of linear regression to a variable\n",
    "poly_reg_model = LinearRegression()\n",
    "#Fit the model (poly_reg_model) to the data (y)- Training Phase\n"
   ]
  },
  {
   "cell_type": "code",
   "execution_count": null,
   "id": "02eab153",
   "metadata": {},
   "outputs": [],
   "source": [
    "#Use the model to produce the predicted line\n"
   ]
  },
  {
   "cell_type": "code",
   "execution_count": null,
   "id": "e08a3b25",
   "metadata": {},
   "outputs": [],
   "source": [
    "#Plot results, polynomial regression shown by the red line\n",
    "plt.figure(figsize=(15, 6))\n",
    "plt.title(\"Polynomial Regression- Temperature Data\", size=16)\n",
    "plt.plot(x, y)\n",
    "plt.plot(x, y_predicted, c=\"red\")\n",
    "plt.xlabel(\"Days since first data collected\", size=12)\n",
    "plt.ylabel(\"Temperature (deg F)\", size=12)\n",
    "plt.show()"
   ]
  },
  {
   "cell_type": "code",
   "execution_count": null,
   "id": "d8ead13e",
   "metadata": {},
   "outputs": [],
   "source": []
  }
 ],
 "metadata": {
  "kernelspec": {
   "display_name": "Python 3",
   "language": "python",
   "name": "python3"
  },
  "language_info": {
   "codemirror_mode": {
    "name": "ipython",
    "version": 3
   },
   "file_extension": ".py",
   "mimetype": "text/x-python",
   "name": "python",
   "nbconvert_exporter": "python",
   "pygments_lexer": "ipython3",
   "version": "3.8.8"
  }
 },
 "nbformat": 4,
 "nbformat_minor": 5
}
