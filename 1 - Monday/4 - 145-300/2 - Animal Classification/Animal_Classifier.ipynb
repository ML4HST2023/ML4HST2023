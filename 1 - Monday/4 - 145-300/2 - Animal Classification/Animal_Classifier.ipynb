{
 "cells": [
  {
   "cell_type": "code",
   "execution_count": null,
   "id": "a0058634",
   "metadata": {},
   "outputs": [],
   "source": [
    "# Import the required libraries\n",
    "\n",
    "# Import OS for file handling\n",
    "import os\n",
    "# Import random for randomizing the images \n",
    "import random\n",
    "# Import pandas for dataset management\n",
    "import pandas as pd\n",
    "# Import matplotlib for reading and displaying images \n",
    "import matplotlib.pyplot as plt\n",
    "import matplotlib.image as mpimg\n",
    "# Import numpy for numeric operation\n",
    "import numpy as np\n",
    "# Import skimage.io for reading and displaying images\n",
    "from skimage.io import imread\n",
    "# Import skimage.transform for resizing the image\n",
    "from skimage.transform import resize"
   ]
  },
  {
   "cell_type": "code",
   "execution_count": null,
   "id": "a619cfc0",
   "metadata": {},
   "outputs": [],
   "source": [
    "# Create an array to store target(labels), images and flat data\n",
    "target = []\n",
    "# Create an array to store flat data\n",
    "flat_data = []\n",
    "# Create an array to store images\n",
    "images = []\n",
    "\n",
    "# Initialize the data directory\n",
    "DataDirectory = 'C:/Users/nkhanal/Downloads/AnimalClassification/train'\n",
    "\n",
    "# List the data directory as category\n",
    "Categories = os.listdir(DataDirectory)\n"
   ]
  },
  {
   "cell_type": "code",
   "execution_count": null,
   "id": "c2c935c1",
   "metadata": {},
   "outputs": [],
   "source": [
    "# Loop through the category\n",
    "for i in Categories:\n",
    "    # Display each category and its respective label\n",
    "    print(\"Category is:\",i,\"\\tLabel encoded as:\",Categories.index(i))\n",
    "    # Create a class for each labels\n",
    "    target_class = Categories.index(i)\n",
    "    # Create data path for all folders\n",
    "    path = os.path.join(DataDirectory,i)\n",
    "    # Read and resize image to same dimensions\n",
    "    for img in os.listdir(path):\n",
    "        # Read the image using skimage\n",
    "        img_array = imread(os.path.join(path,img),plugin='matplotlib')\n",
    "        # Resize the image from the image array\n",
    "        img_resized = resize(img_array,(150,150,3))\n",
    "        # Flatten the resized image\n",
    "        flat_data.append(img_resized.flatten())\n",
    "        # Add the resized image to image array\n",
    "        images.append(img_resized)\n",
    "        # Add the label class to target array\n",
    "        target.append(target_class)\n",
    "# Convert arrays to numpy array format\n",
    "flat_data = np.array(flat_data)\n",
    "images = np.array(images)\n",
    "target = np.array(target)"
   ]
  },
  {
   "cell_type": "code",
   "execution_count": null,
   "id": "29ecb0fc",
   "metadata": {},
   "outputs": [],
   "source": [
    "# Randomize the sample to be displayed\n",
    "selected_animals = random.sample(Categories, 2)\n",
    "\n",
    "# Set up the matplotlib figure and axes\n",
    "fig, axes = plt.subplots(1, 2, figsize=(12, 4))\n",
    "\n",
    "# Iterate over the selected animals and display one image from each folder\n",
    "for i, animal in enumerate(selected_animals):\n",
    "    # Create a full path to the animal directory\n",
    "    animal_directory = os.path.join(DataDirectory, animal)\n",
    "    # List all the files available in directory\n",
    "    animal_files = os.listdir(animal_directory)\n",
    "    # If files are detected\n",
    "    if animal_files:\n",
    "        # Randomize the detected files\n",
    "        random_animal_file = random.choice(animal_files)\n",
    "        # Add it to the image path\n",
    "        animal_image_path = os.path.join(animal_directory, random_animal_file)\n",
    "        # Read the random images using matplotlib mpimg\n",
    "        animal_image = mpimg.imread(animal_image_path)\n",
    "        # Display the images\n",
    "        axes[i].imshow(animal_image)\n",
    "        # Display their labels\n",
    "        axes[i].set_title(animal)\n",
    "        # Disable the plot axes\n",
    "        axes[i].axis(\"off\")\n",
    "\n",
    "# Adjust the spacing between subplots\n",
    "plt.tight_layout()\n",
    "# Display the figure\n",
    "plt.show()"
   ]
  },
  {
   "cell_type": "code",
   "execution_count": null,
   "id": "a362fdd6",
   "metadata": {},
   "outputs": [],
   "source": [
    "# Create a dataset for the flat data\n",
    "df = pd.DataFrame(flat_data)\n",
    "# Create a column for output data called Target\n",
    "df['Target'] = target"
   ]
  },
  {
   "cell_type": "code",
   "execution_count": null,
   "id": "b1d08274",
   "metadata": {},
   "outputs": [],
   "source": [
    "# Split the dataset into training and validation\n",
    "\n",
    "# Import the training and testing split module\n",
    "from sklearn.model_selection import train_test_split\n",
    "\n",
    "# Get the images from the dataset\n",
    "x = df.iloc[:,:-1].values\n",
    "# Get the labels from the dataset\n",
    "y = target\n",
    "\n",
    "# Split the images and labels into 80% training and 20% validation datasets\n",
    "X_train, X_test, y_train, y_test = train_test_split(\n",
    "    x, \n",
    "    y, \n",
    "    test_size=0.20, \n",
    "    shuffle=True,\n",
    "    random_state=42,\n",
    ")"
   ]
  },
  {
   "cell_type": "code",
   "execution_count": null,
   "id": "bb73c718",
   "metadata": {},
   "outputs": [],
   "source": [
    "# Apply Support Vector Machine classifier\n",
    "\n",
    "# Import the GridSearchCv for selecting the most effective hyperparameters\n",
    "from sklearn.model_selection import GridSearchCV\n",
    "# Import the support vector machine classifier\n",
    "from sklearn.svm import SVC\n",
    "\n",
    "# Set the parameters for testing\n",
    "param_grid = [\n",
    "  {'C': [1, 10, 100, 1000], 'kernel': ['linear']},\n",
    "  {'C': [1, 10, 100, 1000], 'gamma': [0.001, 0.0001], 'kernel': ['rbf']},\n",
    " ]\n",
    "# Create an instance of SVC class\n",
    "svc = SVC()\n",
    "# Apply the parameters for finding the best parameters\n",
    "clf = GridSearchCV(svc, param_grid)\n",
    "# Train the model to find best parameters\n",
    "clf.fit(X_train,y_train)"
   ]
  },
  {
   "cell_type": "code",
   "execution_count": null,
   "id": "df9dfbcb",
   "metadata": {},
   "outputs": [],
   "source": [
    "# Display parameters selected by GridSearchCV \n",
    "print(\"Best parameters to apply are:\",clf.best_params_)\n",
    "# Display model after hyperparameter tuning\n",
    "svm = clf.best_estimator_\n",
    "print(\"Model after tuning is:\\n\",svm)"
   ]
  },
  {
   "cell_type": "code",
   "execution_count": null,
   "id": "9f404d39",
   "metadata": {},
   "outputs": [],
   "source": [
    "# Predict the output of model by applying the best parameter\n",
    "y_prediction = svm.predict(X_test)"
   ]
  },
  {
   "cell_type": "code",
   "execution_count": null,
   "id": "17846d4f",
   "metadata": {},
   "outputs": [],
   "source": [
    "# Evaluate the model using confusion matrix, classification report and accuracy\n",
    "from sklearn.metrics import accuracy_score\n",
    "print(\"Accuracy score:\",100*accuracy_score(y_prediction,y_test))"
   ]
  },
  {
   "cell_type": "code",
   "execution_count": null,
   "id": "113ec782",
   "metadata": {},
   "outputs": [],
   "source": [
    "# Import the pickle module for saving the generated machine learning model\n",
    "import pickle\n",
    "# Save SVM model in pickle file\n",
    "pickle.dump(svm,open(\"C:/Users/nkhanal/Downloads/Classification_Model.p\",\"wb\"))"
   ]
  },
  {
   "cell_type": "code",
   "execution_count": null,
   "id": "671b60c3",
   "metadata": {},
   "outputs": [],
   "source": [
    "# Read byte from the saved ML model\n",
    "test_model = pickle.load(open(\"C:/Users/nkhanal/Downloads/Classification_Model.p\",\"rb\"))"
   ]
  },
  {
   "cell_type": "code",
   "execution_count": null,
   "id": "55251d7a",
   "metadata": {},
   "outputs": [],
   "source": [
    "# Test images using the generated ML model\n",
    "\n",
    "# Define the test path\n",
    "test_path = 'C:/Users/nkhanal/Downloads/AnimalClassification/test'\n",
    "# List the folders on the test path\n",
    "test_animals = os.listdir(test_path)\n",
    "for j in range (2):\n",
    "    for i in test_animals:\n",
    "        # Set a flat data array\n",
    "        flat_data = []\n",
    "        # Set different sub-path through each iteration\n",
    "        path = os.path.join(test_path,i)\n",
    "        # Randomize the selected paths to select different images\n",
    "        random_image = random.choice(os.listdir(path))\n",
    "        # Set the random image path\n",
    "        image_path = os.path.join(path, random_image)\n",
    "        # Read the image from the created path\n",
    "        img_array = imread(image_path, plugin='matplotlib')\n",
    "        # Resize the image\n",
    "        img_resized = resize(img_array, (150, 150, 3))\n",
    "        # Flatten the resized image for testing\n",
    "        flat_data.append(img_resized.flatten())\n",
    "        # Display the image\n",
    "        plt.imshow(img_resized)\n",
    "        # Predict the image using the generated model\n",
    "        y_output = test_model.predict(flat_data)\n",
    "        # Set the label of the predicted output\n",
    "        y_output = Categories[y_output[0]]\n",
    "        # Display the image\n",
    "        plt.imshow(img_resized)\n",
    "        plt.axis('off')\n",
    "        plt.show()\n",
    "        # Display the predicted output label\n",
    "        print(\"PREDICTED OUTPUT IS:\",y_output)"
   ]
  },
  {
   "cell_type": "code",
   "execution_count": null,
   "id": "01950091",
   "metadata": {},
   "outputs": [],
   "source": []
  }
 ],
 "metadata": {
  "kernelspec": {
   "display_name": "Python 3 (ipykernel)",
   "language": "python",
   "name": "python3"
  },
  "language_info": {
   "codemirror_mode": {
    "name": "ipython",
    "version": 3
   },
   "file_extension": ".py",
   "mimetype": "text/x-python",
   "name": "python",
   "nbconvert_exporter": "python",
   "pygments_lexer": "ipython3",
   "version": "3.9.12"
  }
 },
 "nbformat": 4,
 "nbformat_minor": 5
}
