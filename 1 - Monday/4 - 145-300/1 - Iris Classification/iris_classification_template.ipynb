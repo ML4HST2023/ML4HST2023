{
 "cells": [
  {
   "cell_type": "markdown",
   "metadata": {
    "id": "1Z208sQ-d2_x"
   },
   "source": [
    "## Import the required Modules"
   ]
  },
  {
   "cell_type": "code",
   "execution_count": null,
   "metadata": {
    "id": "4YT4KWH2bEh5"
   },
   "outputs": [],
   "source": [
    "# Import numerical python libraries to create vectors and perform matrix multiplication\n",
    "\n",
    "\n",
    "# Import pyplot plotting library from matplotlib to plot similar to Matlab\n",
    "\n",
    "\n",
    "# Import the logistic regression implementation from sklearn linear model\n",
    "\n",
    "\n",
    "# Import the data handling utility to separate training and testing data\n",
    "\n",
    "\n",
    "# Import some helpful metrics to help us understand the models performance\n"
   ]
  },
  {
   "cell_type": "markdown",
   "metadata": {},
   "source": [
    "## Define Helper Functions"
   ]
  },
  {
   "cell_type": "code",
   "execution_count": null,
   "metadata": {},
   "outputs": [],
   "source": [
    "def norm(x):\n",
    "  stats = x.describe()\n",
    "  stats = stats.transpose()\n",
    "  return (x - stats['mean']) / stats['std']"
   ]
  },
  {
   "cell_type": "code",
   "execution_count": null,
   "metadata": {},
   "outputs": [],
   "source": [
    "def plot_loss(loss):\n",
    "    plt.plot(range(len(loss)), loss)\n",
    "    plt.xlabel('Epoch')\n",
    "    plt.ylabel('Loss')\n",
    "    plt.grid(True)"
   ]
  },
  {
   "cell_type": "markdown",
   "metadata": {
    "id": "NqipGnAxd7dS"
   },
   "source": [
    "## Load and configure the Iris Dataset"
   ]
  },
  {
   "cell_type": "code",
   "execution_count": null,
   "metadata": {
    "id": "ixeEGkOMYfG0"
   },
   "outputs": [],
   "source": [
    "# Specify the column names to keep\n",
    "\n",
    "\n",
    "# Specify the location of the data\n",
    "training_data_path = \"https://storage.googleapis.com/download.tensorflow.org/data/iris_training.csv\"\n",
    "test_data_path = \"https://storage.googleapis.com/download.tensorflow.org/data/iris_test.csv\"\n",
    "\n",
    "# Load the training data\n",
    "\n",
    "\n",
    "# Load the testing data\n",
    "\n",
    "\n",
    "# Combine the training and testing datasets for statistical analysis\n",
    "iris_dataset = pd.concat([train, test], axis=0)\n",
    "iris_dataset.describe()"
   ]
  },
  {
   "cell_type": "markdown",
   "metadata": {
    "id": "J4ubs136WLNp"
   },
   "source": [
    "## Checking the relation between the variables using Pairplot and Correlation Graph"
   ]
  },
  {
   "cell_type": "code",
   "execution_count": null,
   "metadata": {
    "id": "BbatgoGzfD5S"
   },
   "outputs": [],
   "source": [
    "correlation_data = iris_dataset.corr()\n",
    "correlation_data.style.background_gradient(cmap='coolwarm', axis=None)"
   ]
  },
  {
   "cell_type": "markdown",
   "metadata": {
    "id": "Vj16Yg-XgK9O"
   },
   "source": [
    "## Train Test Split"
   ]
  },
  {
   "cell_type": "code",
   "execution_count": null,
   "metadata": {
    "id": "DgDkB9NqqD1t"
   },
   "outputs": [],
   "source": [
    "# Separate the features from the labels\n",
    "\n",
    "\n",
    "# Split the dataset into training and testing subsets\n",
    "\n",
    "\n",
    "# Normalize the features for better training results\n",
    "\n",
    "\n",
    "print('Dataset \\t Feature Shape \\t Label Shape')\n",
    "print(f'Training \\t {train_features.shape} \\t {train_labels.shape}')\n",
    "print(f'Testing \\t {test_features.shape} \\t {test_labels.shape}')"
   ]
  },
  {
   "cell_type": "code",
   "execution_count": null,
   "metadata": {
    "id": "abSKdhM71_In"
   },
   "outputs": [],
   "source": [
    "stats = train_features.describe()\n",
    "stats = stats.transpose()\n",
    "stats"
   ]
  },
  {
   "cell_type": "code",
   "execution_count": null,
   "metadata": {
    "id": "qP_sRTRCgRUm"
   },
   "outputs": [],
   "source": [
    "stats = test_features.describe()\n",
    "stats = stats.transpose()\n",
    "stats"
   ]
  },
  {
   "cell_type": "markdown",
   "metadata": {
    "id": "WCw3Zh1Vovzf"
   },
   "source": [
    "## Model Training"
   ]
  },
  {
   "cell_type": "code",
   "execution_count": null,
   "metadata": {
    "id": "I85mYJ72rFz8"
   },
   "outputs": [],
   "source": [
    "# Define a linear classifier using logistic regression\n"
   ]
  },
  {
   "cell_type": "code",
   "execution_count": null,
   "metadata": {
    "id": "h5ebRtr7rIXN"
   },
   "outputs": [],
   "source": [
    "# Train the MLP classifier\n",
    "\n",
    "print(f'Training Accuracy: {model.score(train_features, train_labels.values)}')"
   ]
  },
  {
   "cell_type": "markdown",
   "metadata": {
    "id": "kw2eAJvRwBuo"
   },
   "source": [
    "## Validating Performance"
   ]
  },
  {
   "cell_type": "code",
   "execution_count": null,
   "metadata": {},
   "outputs": [],
   "source": [
    "# Store the model parameters locally\n",
    "\n",
    "\n",
    "print(f'w\\n{w}\\nbias\\n{bias}')"
   ]
  },
  {
   "cell_type": "code",
   "execution_count": null,
   "metadata": {
    "id": "7Fjo8OZoqOb-"
   },
   "outputs": [],
   "source": [
    "# Use the trained model to make predictions on the test dataset\n",
    "\n",
    "print(classification_report(test_labels, test_predictions))"
   ]
  },
  {
   "cell_type": "code",
   "execution_count": null,
   "metadata": {},
   "outputs": [],
   "source": [
    "# Display the class accuracy using a confusion matrix\n"
   ]
  },
  {
   "cell_type": "code",
   "execution_count": null,
   "metadata": {},
   "outputs": [],
   "source": []
  }
 ],
 "metadata": {
  "accelerator": "GPU",
  "colab": {
   "collapsed_sections": [],
   "name": "Logisitc_Regression_IRIS.ipynb",
   "private_outputs": true,
   "provenance": [],
   "toc_visible": true
  },
  "kernelspec": {
   "display_name": "Python 3 (ipykernel)",
   "language": "python",
   "name": "python3"
  },
  "language_info": {
   "codemirror_mode": {
    "name": "ipython",
    "version": 3
   },
   "file_extension": ".py",
   "mimetype": "text/x-python",
   "name": "python",
   "nbconvert_exporter": "python",
   "pygments_lexer": "ipython3",
   "version": "3.8.16"
  }
 },
 "nbformat": 4,
 "nbformat_minor": 1
}
