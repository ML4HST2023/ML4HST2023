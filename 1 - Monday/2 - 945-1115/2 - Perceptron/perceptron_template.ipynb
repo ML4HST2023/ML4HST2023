{
 "cells": [
  {
   "cell_type": "markdown",
   "id": "7673f21f",
   "metadata": {},
   "source": [
    "# ML4HST Workshop 2023\n",
    "### Perceptron Completed Code\n",
    "This jupyter notebook walks you through loading data with pandas and sklearn, working with sklearn models, and displaying the results with sklearn and matplotlib. The accompanying presentation (1 - Monday/2-945-1115/2 - Perceptron.pptx) provides an in depth explanation of the theory behind the perceptron. "
   ]
  },
  {
   "cell_type": "code",
   "execution_count": null,
   "id": "0a9945c1-0d1a-4bfc-a056-846fca2ec361",
   "metadata": {},
   "outputs": [],
   "source": [
    "# Import numerical python libraries to create vectors and perform matrix multiplication\n",
    "\n",
    "\n",
    "# Import pyplot plotting library from matplotlib to plot similar to Matlab\n",
    "\n",
    "\n",
    "# Import the linear models from sklearn, specifically the Perceptron and MLPClassifier\n"
   ]
  },
  {
   "cell_type": "code",
   "execution_count": null,
   "id": "0dafb8cf",
   "metadata": {},
   "outputs": [],
   "source": [
    "# A function to simplify plotting csv datasets with two features and one label\n",
    "# inputs:\n",
    "# - features (dataframe): A two column pandas dataframe in order x1, x2\n",
    "# - labels (dataframe): A single column pandas dataframe of integer labels starting at 1\n",
    "# - w1 (float): Weight for x1\n",
    "# - w2 (float): Weight for x2\n",
    "# - bias (float): Weight for bias (1)\n",
    "# - color (list): An optional list of color strings to use on the plot, must be matplotlib supported\n",
    "def plot(features, labels, w=None, bias=None, color=['orange','blue']):\n",
    "    for i, entry in enumerate(features.values):\n",
    "        plt.scatter(entry[0], entry[1], c=color[labels[i]-1])\n",
    "    plt.xlabel('x1')\n",
    "    plt.ylabel('x2')\n",
    "    plt.grid(True)\n",
    "    \n",
    "    if w is not None and bias is not None:\n",
    "        x1 = features.iloc[:,0]\n",
    "        x2 = features.iloc[:,1]\n",
    "        x1 = [min(x1), max(x1) + 2]\n",
    "        x2 = [min(x2), max(x2) + 2]\n",
    "        \n",
    "        if len(w.shape) > 1:\n",
    "            for i in range(len(w)):\n",
    "                w1 = w[0,i]\n",
    "                w2 = w[1,i]\n",
    "                b = bias[i]\n",
    "                plot_line(x1,x2,w1,w2,b)\n",
    "        else:\n",
    "            plot_line(x1,x2,w[0],w[1],bias)"
   ]
  },
  {
   "cell_type": "code",
   "execution_count": null,
   "id": "43a4ecc3-aac1-4e02-9d79-55d4fb3122bb",
   "metadata": {},
   "outputs": [],
   "source": [
    "def plot_line(xlist,ylist,w1,w2,b):\n",
    "    if w2 == 0.0:\n",
    "        y = np.arange(ylist[0],ylist[1])\n",
    "        x = (-b/w1) * np.ones(y.shape)\n",
    "    else:\n",
    "        x = np.arange(xlist[0], xlist[1])\n",
    "        y = (-(w1 * x) - b) / w2\n",
    "    plt.plot(x,y)"
   ]
  },
  {
   "cell_type": "code",
   "execution_count": null,
   "id": "95949a33",
   "metadata": {},
   "outputs": [],
   "source": [
    "def plot_loss(loss):\n",
    "    plt.plot(range(len(loss)), loss)\n",
    "    plt.xlabel('Epoch')\n",
    "    plt.ylabel('Loss')\n",
    "    plt.grid(True)"
   ]
  },
  {
   "cell_type": "code",
   "execution_count": null,
   "id": "5ae79f73",
   "metadata": {},
   "outputs": [],
   "source": [
    "def process_layer(df, w, b, activation):\n",
    "    output_df = []\n",
    "    for entry in df.values:\n",
    "        o1 = activation(np.dot(entry, w[:,0]) + b[0]) \n",
    "        o2 = activation(np.dot(entry, w[:,1]) + b[1])\n",
    "        o1 = 1 if o1 > 0 else 0\n",
    "        o2 = 1 if o2 > 0 else 0\n",
    "        output_df.append([o1,o2])\n",
    "    return pd.DataFrame(output_df)"
   ]
  },
  {
   "cell_type": "code",
   "execution_count": null,
   "id": "6d0813f4",
   "metadata": {},
   "outputs": [],
   "source": [
    "def relu(x):\n",
    "    return max(0,x)"
   ]
  },
  {
   "cell_type": "code",
   "execution_count": null,
   "id": "e7040b07",
   "metadata": {},
   "outputs": [],
   "source": [
    "def sigmoid(x):\n",
    "    return 1 / (1 + e^-x)"
   ]
  },
  {
   "cell_type": "code",
   "execution_count": null,
   "id": "87effcec-dc8f-4c58-80cf-d788624d4749",
   "metadata": {},
   "outputs": [],
   "source": [
    "# Load the dataset from local drive\n",
    "\n",
    "print(df.head(10))"
   ]
  },
  {
   "cell_type": "code",
   "execution_count": null,
   "id": "7a5c17e6",
   "metadata": {},
   "outputs": [],
   "source": [
    "# Specify the feature column headers and the label column header\n",
    "\n",
    " \n",
    "# Separate the features (x) and label (y)\n",
    "\n",
    "\n",
    "plot(df[feature_columns], df[label_columns])"
   ]
  },
  {
   "cell_type": "code",
   "execution_count": null,
   "id": "8461e6ff-a429-42b1-ba8b-3a3f48948bfc",
   "metadata": {},
   "outputs": [],
   "source": [
    "# Create a perceptron model\n"
   ]
  },
  {
   "cell_type": "code",
   "execution_count": null,
   "id": "a8d766f4",
   "metadata": {},
   "outputs": [],
   "source": [
    "# Train the perceptron to separate the classes\n",
    "\n",
    "print(f'Training set accuracy {perc.score(df[feature_columns], df[label_columns])}')"
   ]
  },
  {
   "cell_type": "code",
   "execution_count": null,
   "id": "f625b359-3661-47af-9028-af7470a3caf5",
   "metadata": {},
   "outputs": [],
   "source": [
    "# Store the model parameters (w1, w2, bias) locally\n",
    "\n",
    "\n",
    "print(f'w\\t{w[0]}\\nbias\\t{bias}')"
   ]
  },
  {
   "cell_type": "code",
   "execution_count": null,
   "id": "b7cf4672",
   "metadata": {},
   "outputs": [],
   "source": [
    "# Plot the data with the decision hyperplane from the perceptron\n",
    "plot(df[feature_columns], df[label_columns], w[0], bias)"
   ]
  },
  {
   "cell_type": "code",
   "execution_count": null,
   "id": "040a541b",
   "metadata": {},
   "outputs": [],
   "source": [
    "# Load the dataset from local drive\n",
    "\n",
    "print(df.head(10))"
   ]
  },
  {
   "cell_type": "code",
   "execution_count": null,
   "id": "8e8336bb-522f-487a-a996-0ad275795f04",
   "metadata": {},
   "outputs": [],
   "source": [
    "# Separate the features (x) and label (y)\n",
    "\n",
    "\n",
    "plot(df[feature_columns], df[label_columns])"
   ]
  },
  {
   "cell_type": "code",
   "execution_count": null,
   "id": "e793d11e-0c38-4320-b634-fbb0bb4baf4c",
   "metadata": {},
   "outputs": [],
   "source": [
    "# Create a MLP Classifier model\n"
   ]
  },
  {
   "cell_type": "code",
   "execution_count": null,
   "id": "74fef10c-90a7-49c1-9345-6bd94759c541",
   "metadata": {
    "tags": []
   },
   "outputs": [],
   "source": [
    "# Train the perceptron to separate the classes\n",
    "\n",
    "plot_loss(mlp.loss_curve_)\n",
    "print(f'Training set accuracy {mlp.score(df[feature_columns], df[label_columns])}')"
   ]
  },
  {
   "cell_type": "code",
   "execution_count": null,
   "id": "b68c8f77-64dd-4a5c-bf6a-9b7fe705a86c",
   "metadata": {},
   "outputs": [],
   "source": [
    "# Store the model parameters (w1, w2, bias) locally\n",
    "w = mlp.coefs_\n",
    "bias = mlp.intercepts_\n",
    "\n",
    "# Display network parameters\n",
    "for i, layer in enumerate(w):\n",
    "    if i == len(w) - 1:\n",
    "        message = f'Output Layer \\n'\n",
    "        temp = []\n",
    "        for entry in layer:\n",
    "            temp.append(entry[0])\n",
    "        layer = [[temp]]\n",
    "    else:\n",
    "        message = f'Layer {i} \\n'\n",
    "        \n",
    "    for j in range(len(layer[-1])):\n",
    "        message += 'Neuron '\n",
    "        b = bias[i][j] if j < len(bias[i]) else bias[i][-1]\n",
    "        message += f'{j} {layer[:,j]} {b} ' if i < len(w) - 1 else f'{j} {layer[-1][-1]} {b}'\n",
    "        message += '\\n'\n",
    "        \n",
    "    print(message)"
   ]
  },
  {
   "cell_type": "code",
   "execution_count": null,
   "id": "e6d2b22b-74cc-4d5b-a917-5b23b3ed8ae5",
   "metadata": {},
   "outputs": [],
   "source": [
    "# Plot the input data with the decision hyperplane from the first layer\n",
    "plot(df[feature_columns], df[label_columns], w[0], bias[0])"
   ]
  },
  {
   "cell_type": "code",
   "execution_count": null,
   "id": "0262e55f-3300-4767-862f-8bb82e5cc28e",
   "metadata": {},
   "outputs": [],
   "source": [
    "# Plot the output data from layer 1 and the decision hyperplane from the output layer\n",
    "layer2 = []\n",
    "for neuron in w[1]:\n",
    "    layer2.append(neuron[0])\n",
    "temp_df = process_layer(df[feature_columns], w[0], bias[0], activation=relu)\n",
    "plot(temp_df, df[label_columns], np.array(layer2), bias[1])"
   ]
  },
  {
   "cell_type": "code",
   "execution_count": null,
   "id": "2ba5dcd1-bb57-4c58-8746-b3f686cb7a99",
   "metadata": {},
   "outputs": [],
   "source": []
  }
 ],
 "metadata": {
  "kernelspec": {
   "display_name": "Python 3 (ipykernel)",
   "language": "python",
   "name": "python3"
  },
  "language_info": {
   "codemirror_mode": {
    "name": "ipython",
    "version": 3
   },
   "file_extension": ".py",
   "mimetype": "text/x-python",
   "name": "python",
   "nbconvert_exporter": "python",
   "pygments_lexer": "ipython3",
   "version": "3.8.16"
  }
 },
 "nbformat": 4,
 "nbformat_minor": 5
}
