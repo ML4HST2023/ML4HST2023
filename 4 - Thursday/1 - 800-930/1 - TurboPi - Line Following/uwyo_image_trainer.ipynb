{
 "cells": [
  {
   "cell_type": "code",
   "execution_count": null,
   "id": "26770181",
   "metadata": {},
   "outputs": [],
   "source": [
    "# Import outside dependencies\n",
    "import torch\n",
    "from torchvision import transforms, datasets\n",
    "from torch.utils.data import DataLoader\n",
    "\n",
    "# Import in house dependencies\n",
    "from uwyo_models import ann\n",
    "import uwyo_dataloader as dl\n",
    "import uwyo_trainer as trainer"
   ]
  },
  {
   "cell_type": "code",
   "execution_count": null,
   "id": "87d094dd",
   "metadata": {},
   "outputs": [],
   "source": [
    "\"\"\"\n",
    "    mean_std(loader)\n",
    "    A function to compute the mean and standard deviation of an image dataset\n",
    "    \n",
    "    inputs:\n",
    "     - loader (pytorch dataloader): The image dataloader to use for computations\n",
    "    outputs:\n",
    "     - mean (tensor): The mean along each channel of the image dataset\n",
    "     - std (tensor): The standard deviation along each channel of the image dataset\n",
    "\"\"\"\n",
    "def mean_std(loader):\n",
    "    images, labels = next(iter(loader))\n",
    "    mean, std = images.mean([0,2,3]), images.std([0,2,3])\n",
    "    return mean, std"
   ]
  },
  {
   "cell_type": "code",
   "execution_count": null,
   "id": "16f2dd2a",
   "metadata": {},
   "outputs": [],
   "source": [
    "# Rescaling parameters for input images\n",
    "image_width = 40\n",
    "image_height = 30"
   ]
  },
  {
   "cell_type": "code",
   "execution_count": null,
   "id": "3995f437",
   "metadata": {},
   "outputs": [],
   "source": [
    "# A custom pytorch wrapper which can create most model structures\n",
    "model_creator = ann(name='detector')\n",
    "model_creator.create_model(model_type='cnn', \n",
    "                           inputs=1, \n",
    "                           outputs=1, \n",
    "                           neurons=[4], \n",
    "                           activations=['relu', 'relu', 'sigmoid'], \n",
    "                           linear_batch_normalization=False, \n",
    "                           linear_dropout=None,\n",
    "                           cnn_type='2d', \n",
    "                           channels=[8], \n",
    "                           image_width=image_width, \n",
    "                           image_height=image_height,\n",
    "                           kernels=(11,11),\n",
    "                           strides=None,\n",
    "                           paddings=None,\n",
    "                           pooling='maxpool2d',\n",
    "                           cnn_batch_normalization=True,\n",
    "                           cnn_dropout=0.1)\n",
    "\n",
    "cnn_model = model_creator.model"
   ]
  },
  {
   "cell_type": "code",
   "execution_count": null,
   "id": "a70444b9",
   "metadata": {},
   "outputs": [],
   "source": [
    "# Compute the mean and std of the dataset for z-normalization\n",
    "transform = transforms.Compose([transforms.Grayscale(), transforms.ToTensor()])\n",
    "loader = DataLoader(datasets.ImageFolder(f'Data/', transform=transform), batch_size=245)\n",
    "mean, std = mean_std(loader)\n",
    "normalize = transforms.Normalize(mean, std)\n",
    "print(f'Mean : {mean} | STD : {std}')"
   ]
  },
  {
   "cell_type": "code",
   "execution_count": null,
   "id": "5c3b0be2",
   "metadata": {},
   "outputs": [],
   "source": [
    "# Create a specific training transformer to make training more complex\n",
    "transform_train = transforms.Compose([transforms.Resize([image_height,image_width]),\n",
    "                                      transforms.Grayscale(),\n",
    "                                      transforms.ColorJitter(),\n",
    "                                      transforms.RandomPerspective(),\n",
    "                                      transforms.ToTensor(),\n",
    "                                      normalize])\n",
    "\n",
    "# Create a specific testing transformer to perform image conversion but without augmentation\n",
    "transform_tests = transforms.Compose([transforms.Resize([image_height,image_width]),\n",
    "                                      transforms.Grayscale(),\n",
    "                                      transforms.ToTensor(),\n",
    "                                      normalize])"
   ]
  },
  {
   "cell_type": "code",
   "execution_count": null,
   "id": "312a5c61",
   "metadata": {},
   "outputs": [],
   "source": [
    "# Use the dataloader from earlier to load the image dataset\n",
    "batch_size = 32\n",
    "train, valid, tests, labels = dl.load_images(path=f'Data',\n",
    "                                             batch_size=batch_size,\n",
    "                                             image_width=image_width,\n",
    "                                             image_height=image_height,\n",
    "                                             transform_train=transform_train,\n",
    "                                             transform_test=transform_tests,\n",
    "                                             valid=True,\n",
    "                                             display=True)"
   ]
  },
  {
   "cell_type": "code",
   "execution_count": null,
   "id": "70f90415",
   "metadata": {},
   "outputs": [],
   "source": [
    "# Train the model\n",
    "history, cnn_model = trainer.train(cnn_model, 100, train, valid, thresh=0.85)"
   ]
  },
  {
   "cell_type": "code",
   "execution_count": null,
   "id": "357898cf",
   "metadata": {},
   "outputs": [],
   "source": [
    "# Test the model\n",
    "acc = trainer.test(cnn_model, tests, labels, verbose=1, thresh=0.85)"
   ]
  },
  {
   "cell_type": "code",
   "execution_count": null,
   "id": "348072d7",
   "metadata": {},
   "outputs": [],
   "source": [
    "# Plot the training metrics\n",
    "trainer.plot_history(history)"
   ]
  },
  {
   "cell_type": "code",
   "execution_count": null,
   "id": "57fde838",
   "metadata": {},
   "outputs": [],
   "source": [
    "# Save the model\n",
    "model_script = torch.jit.script(cnn_model)\n",
    "model_script.save('line_follower.pt')"
   ]
  },
  {
   "cell_type": "code",
   "execution_count": null,
   "id": "473c8001",
   "metadata": {},
   "outputs": [],
   "source": []
  }
 ],
 "metadata": {
  "kernelspec": {
   "display_name": "Python 3 (ipykernel)",
   "language": "python",
   "name": "python3"
  },
  "language_info": {
   "codemirror_mode": {
    "name": "ipython",
    "version": 3
   },
   "file_extension": ".py",
   "mimetype": "text/x-python",
   "name": "python",
   "nbconvert_exporter": "python",
   "pygments_lexer": "ipython3",
   "version": "3.8.16"
  }
 },
 "nbformat": 4,
 "nbformat_minor": 5
}
